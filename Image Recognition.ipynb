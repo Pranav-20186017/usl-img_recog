{
 "cells": [
  {
   "cell_type": "code",
   "execution_count": 25,
   "metadata": {},
   "outputs": [],
   "source": [
    "import numpy as np\n",
    "import pandas as pd\n",
    "from sklearn.model_selection import train_test_split\n",
    "from sklearn.svm import SVC \n",
    "from sklearn import metrics\n",
    "from sklearn.ensemble import RandomForestClassifier\n",
    "from sklearn.decomposition import PCA\n",
    "from sklearn.model_selection import cross_val_score\n",
    "from sklearn.discriminant_analysis import LinearDiscriminantAnalysis\n",
    "from sklearn.metrics import f1_score\n",
    "from sklearn.metrics import jaccard_score\n",
    "import warnings\n",
    "warnings.filterwarnings('always')\n",
    "import matplotlib.pyplot as plt\n",
    "from sklearn.metrics import classification_report\n",
    "%matplotlib inline"
   ]
  },
  {
   "cell_type": "code",
   "execution_count": 3,
   "metadata": {},
   "outputs": [],
   "source": [
    "def svm(X_train, X_test, y_train, y_test):\n",
    "    clf = SVC(kernel = 'linear', gamma='auto')\n",
    "    clf.fit(X_train, y_train)\n",
    "    y_predict = clf.predict(X_test)\n",
    "    return \"SVM Test Classifier Accuracy: \" + str(metrics.accuracy_score(y_test, y_predict) * 100) + \"\\nF1 Score for SVM Classifier: \" +  str(f1_score(y_test, y_predict, average='weighted', labels=np.unique(y_predict))) + \"\\n Jaccard Similarity for SVM Classifier: \" + str( jaccard_score(y_test, y_predict, average='macro'))"
   ]
  },
  {
   "cell_type": "code",
   "execution_count": 4,
   "metadata": {},
   "outputs": [],
   "source": [
    "def rf(X_train, X_test, y_train, y_test):\n",
    "    clf = RandomForestClassifier(n_estimators=1000, max_depth = 50, random_state=0)\n",
    "    clf.fit(X_train, y_train)\n",
    "    y_predict = clf.predict(X_test)\n",
    "    #Random Forest Classifier Test Accuracy\n",
    "    return \"Random Forest Classifier Test Accuracy: \" + str(metrics.accuracy_score(y_test, y_predict) * 100) + \"\\nF1 Score for Random Forest Classifier: \" +  str(f1_score(y_test, y_predict, average='weighted', labels=np.unique(y_predict))) + \"\\n Jaccard Similarity for Random Forest Classifier: \" + str( jaccard_score(y_test, y_predict, average='macro'))"
   ]
  },
  {
   "cell_type": "markdown",
   "metadata": {},
   "source": [
    "<h3>Loading Data</h3>"
   ]
  },
  {
   "cell_type": "code",
   "execution_count": 5,
   "metadata": {},
   "outputs": [],
   "source": [
    "df = pd.read_csv(\"Dataset.csv\")\n",
    "y = df['Label']\n",
    "df = df.drop(['Label'], axis=1)"
   ]
  },
  {
   "cell_type": "markdown",
   "metadata": {},
   "source": [
    "<h3>Approach 1 : Training a Classification Model Without Dimensionality Reduction</h3>\n"
   ]
  },
  {
   "cell_type": "code",
   "execution_count": 5,
   "metadata": {},
   "outputs": [
    {
     "name": "stdout",
     "output_type": "stream",
     "text": [
      "SVM Test Classifier Accuracy: 96.25\n",
      "F1 Score for SVM Classifier: 0.9638888888888889\n",
      " Jaccard Similarity for SVM Classifier: 0.9363636363636363\n",
      "------------------------------------------\n"
     ]
    }
   ],
   "source": [
    "X_train, X_test, y_train, y_test = train_test_split(df, y, test_size=0.2, shuffle = True)\n",
    "print(svm(X_train, X_test, y_train, y_test))\n",
    "print(\"------------------------------------------\")\n",
    "print(rf(X_train, X_test, y_train, y_test))"
   ]
  },
  {
   "cell_type": "markdown",
   "metadata": {},
   "source": [
    "<h3>Training with K fold Cross Validation and computing the validation score</h3>"
   ]
  },
  {
   "cell_type": "code",
   "execution_count": 6,
   "metadata": {},
   "outputs": [
    {
     "name": "stdout",
     "output_type": "stream",
     "text": [
      "[0.98305085 0.97272727 0.93478261]\n"
     ]
    }
   ],
   "source": [
    "X_train, X_test, y_train, y_test = train_test_split(df, y, test_size=0.2, shuffle = True)\n",
    "clf = SVC(kernel = 'linear', gamma='auto')\n",
    "clf.fit(X_train, y_train)\n",
    "print(cross_val_score(clf, X_train, y_train, cv = 3))  \n"
   ]
  },
  {
   "cell_type": "markdown",
   "metadata": {},
   "source": [
    "<h3>Approach 2 : Training a Classification Model With Dimensionality Reduction</h3>\n"
   ]
  },
  {
   "cell_type": "markdown",
   "metadata": {},
   "source": [
    "<h4>The Elbow Curve of Number of Principal Components Vs Explained Variance Ration</h4>"
   ]
  },
  {
   "cell_type": "code",
   "execution_count": 8,
   "metadata": {},
   "outputs": [
    {
     "data": {
      "image/png": "[encoded data removed]",
      "text/plain": [
       "<Figure size 432x288 with 1 Axes>"
      ]
     },
     "metadata": {
      "needs_background": "light"
     },
     "output_type": "display_data"
    }
   ],
   "source": [
    "components = list(range(1,321))\n",
    "explained_variance = list()\n",
    "for _ in components:\n",
    "    pca = PCA(n_components = _)\n",
    "#     print(\"Fitting PCA for \" + str(_) + \" principal components\")\n",
    "#     print(\"-----------------------------------------------------\")\n",
    "    pca.fit_transform(df.values)\n",
    "    cumsum = np.mean(np.cumsum(pca.explained_variance_ratio_))\n",
    "    explained_variance.append(cumsum)\n",
    "plt.plot(components, explained_variance)\n",
    "plt.xlabel('Number of Principal Components', fontsize=16)\n",
    "plt.ylabel('Explained Variance Ratio', fontsize=16)\n",
    "plt.show()"
   ]
  },
  {
   "cell_type": "code",
   "execution_count": 7,
   "metadata": {},
   "outputs": [],
   "source": [
    "pca = PCA()\n",
    "pca.fit(df.values)\n",
    "cumsum = np.cumsum(pca.explained_variance_ratio_)\n",
    "d = np.argmax(cumsum >= 0.95) + 1\n",
    "\n",
    "pca = PCA(n_components = d)\n",
    "X = pca.fit_transform(df.values)\n",
    "X_train_reduced, X_test_reduced, y_train, y_test = train_test_split(X, y.values, test_size = 0.2, shuffle = True)"
   ]
  },
  {
   "cell_type": "code",
   "execution_count": null,
   "metadata": {},
   "outputs": [],
   "source": [
    "print(svm(X_train_reduced, X_test_reduced, y_train, y_test))\n",
    "print(\"-------------------------------------------------------\")\n",
    "print(rf(X_train_reduced, X_test_reduced, y_train, y_test))"
   ]
  },
  {
   "cell_type": "markdown",
   "metadata": {},
   "source": [
    "<h3>Summary</h3>"
   ]
  },
  {
   "cell_type": "markdown",
   "metadata": {},
   "source": [
    "<table style = \"width:100%\">\n",
    "  <tr>\n",
    "      <th>Method</th>  \n",
    "      <th>Classifier</th>\n",
    "    <th>Accuracy</th>\n",
    "    <th>F1 Score</th>\n",
    "    <th>Jaccard Similarity</th>\n",
    "  </tr>\n",
    "    <tr>\n",
    "        <td>Training a Classification Model Without Dimensionality Reduction</td>\n",
    "        <td>SVM</td>\n",
    "        <td>95</td>\n",
    "        <td>0.947</td>\n",
    "        <td>0.928</td>\n",
    "    </tr>\n",
    "         <tr>\n",
    "        <td>Training a Classification Model With Dimensionality Reduction</td>\n",
    "             <td>SVM</td>\n",
    "        <td>97.5</td>\n",
    "        <td>0.974</td>\n",
    "        <td>0.971</td>\n",
    "    </tr>\n",
    "     <tr>\n",
    "        <td>Training a Classification Model Without Dimensionality Reduction</td>\n",
    "        <td>Random Forest</td>\n",
    "        <td>96.25</td>\n",
    "        <td>0.964</td>\n",
    "        <td>0.949</td>\n",
    "    </tr>\n",
    "        <tr>\n",
    "        <td>Training a Classification Model With Dimensionality Reduction</td>\n",
    "             <td>Random Forest</td>\n",
    "        <td>93.75</td>\n",
    "        <td>0.931</td>\n",
    "        <td>0.923</td>\n",
    "    </tr> \n",
    "        </table>"
   ]
  },
  {
   "cell_type": "markdown",
   "metadata": {},
   "source": [
    "<h3>Class Wise Classification Metrics</h3>"
   ]
  },
  {
   "cell_type": "code",
   "execution_count": 35,
   "metadata": {},
   "outputs": [
    {
     "name": "stdout",
     "output_type": "stream",
     "text": [
      "              precision    recall  f1-score   support\n",
      "\n",
      "           1       1.00      1.00      1.00         2\n",
      "           2       1.00      1.00      1.00         2\n",
      "           3       1.00      1.00      1.00         2\n",
      "           4       1.00      1.00      1.00         2\n",
      "           5       1.00      1.00      1.00         2\n",
      "           6       1.00      1.00      1.00         2\n",
      "           7       1.00      1.00      1.00         2\n",
      "           8       1.00      1.00      1.00         2\n",
      "           9       1.00      1.00      1.00         2\n",
      "          10       1.00      1.00      1.00         2\n",
      "          11       0.67      1.00      0.80         2\n",
      "          12       1.00      1.00      1.00         2\n",
      "          13       1.00      1.00      1.00         2\n",
      "          14       1.00      1.00      1.00         2\n",
      "          15       1.00      1.00      1.00         2\n",
      "          16       1.00      1.00      1.00         2\n",
      "          17       1.00      1.00      1.00         2\n",
      "          18       1.00      1.00      1.00         2\n",
      "          19       1.00      0.50      0.67         2\n",
      "          20       1.00      1.00      1.00         2\n",
      "          21       1.00      1.00      1.00         2\n",
      "          22       1.00      1.00      1.00         2\n",
      "          23       1.00      1.00      1.00         2\n",
      "          24       1.00      1.00      1.00         2\n",
      "          25       1.00      1.00      1.00         2\n",
      "          26       1.00      1.00      1.00         2\n",
      "          27       1.00      1.00      1.00         2\n",
      "          28       1.00      1.00      1.00         2\n",
      "          29       1.00      1.00      1.00         2\n",
      "          30       1.00      1.00      1.00         2\n",
      "          31       1.00      1.00      1.00         2\n",
      "          32       1.00      1.00      1.00         2\n",
      "          33       1.00      1.00      1.00         2\n",
      "          34       1.00      1.00      1.00         2\n",
      "          35       1.00      1.00      1.00         2\n",
      "          36       1.00      1.00      1.00         2\n",
      "          37       1.00      1.00      1.00         2\n",
      "          38       1.00      1.00      1.00         2\n",
      "          39       1.00      1.00      1.00         2\n",
      "          40       1.00      1.00      1.00         2\n",
      "\n",
      "    accuracy                           0.99        80\n",
      "   macro avg       0.99      0.99      0.99        80\n",
      "weighted avg       0.99      0.99      0.99        80\n",
      "\n"
     ]
    }
   ],
   "source": [
    "from sklearn.model_selection import StratifiedShuffleSplit\n",
    "sss = StratifiedShuffleSplit(n_splits = 1, test_size = 0.2, random_state=0)\n",
    "sss.get_n_splits(df, y)\n",
    "for train_index, test_index in sss.split(X, y):\n",
    "    X_train, X_test = X[train_index], X[test_index]\n",
    "    y_train, y_test = y[train_index], y[test_index]\n",
    "# X_train, X_test, y_train, y_test = train_test_split(df, y, test_size=0.2, shuffle = True)\n",
    "clf = SVC(kernel = 'linear', gamma='auto')\n",
    "clf.fit(X_train, y_train)\n",
    "y_pred = clf.predict(X_test)\n",
    "labels = [i for i in range(1,41)]\n",
    "print(classification_report(y_test, y_pred, labels=labels))"
   ]
  }
 ],
 "metadata": {
  "kernelspec": {
   "display_name": "Python 3",
   "language": "python",
   "name": "python3"
  },
  "language_info": {
   "codemirror_mode": {
    "name": "ipython",
    "version": 3
   },
   "file_extension": ".py",
   "mimetype": "text/x-python",
   "name": "python",
   "nbconvert_exporter": "python",
   "pygments_lexer": "ipython3",
   "version": "3.6.4"
  }
 },
 "nbformat": 4,
 "nbformat_minor": 2
}
